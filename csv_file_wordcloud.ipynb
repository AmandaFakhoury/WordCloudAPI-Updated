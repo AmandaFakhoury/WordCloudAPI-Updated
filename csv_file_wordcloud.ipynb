{
 "cells": [
  {
   "cell_type": "code",
   "execution_count": 1,
   "metadata": {},
   "outputs": [
    {
     "name": "stdout",
     "output_type": "stream",
     "text": [
      " * Serving Flask app \"__main__\" (lazy loading)\n",
      " * Environment: production\n",
      "   WARNING: Do not use the development server in a production environment.\n",
      "   Use a production WSGI server instead.\n",
      " * Debug mode: off\n"
     ]
    },
    {
     "name": "stderr",
     "output_type": "stream",
     "text": [
      " * Running on http://127.0.0.1:5000/ (Press CTRL+C to quit)\n"
     ]
    },
    {
     "data": {
      "text/plain": [
       "<Figure size 640x480 with 1 Axes>"
      ]
     },
     "metadata": {},
     "output_type": "display_data"
    },
    {
     "name": "stderr",
     "output_type": "stream",
     "text": [
      "127.0.0.1 - - [19/Aug/2019 09:40:18] \"\u001b[37mPOST /wordcloud HTTP/1.1\u001b[0m\" 200 -\n",
      "127.0.0.1 - - [19/Aug/2019 09:40:24] \"\u001b[37mPOST /data HTTP/1.1\u001b[0m\" 200 -\n"
     ]
    }
   ],
   "source": [
    "from flask import Flask, render_template, url_for, request, send_file , make_response\n",
    "import pandas as pd\n",
    "from PIL import Image\n",
    "from wordcloud import WordCloud, STOPWORDS, ImageColorGenerator\n",
    "from os import path, getcwd\n",
    "import matplotlib.pyplot as plt\n",
    "import os\n",
    "import csv \n",
    "\n",
    "\n",
    "app = Flask(__name__) \n",
    "    \n",
    "\n",
    "@app.route('/data', methods = ['POST', 'GET'])\n",
    "\n",
    "\n",
    "def data():\n",
    "    \n",
    "    #extract the data from the request\n",
    "    data = request.get_json()\n",
    "    doc = data[\"document\"]\n",
    "    min_freq = data[\"minimum_frequency\"]\n",
    "    max_words = data[\"maximum_number_words\"]\n",
    "    Title = data['Title']\n",
    "  \n",
    "\n",
    "    path = os.path.dirname(doc)  #this extracts the path for later use. Not sure if it works on apple\n",
    "    \n",
    "    df = pd.read_csv(doc)  #read the file\n",
    "    \n",
    "    \n",
    "    #clean the data\n",
    "    df = df.dropna()\n",
    "    \n",
    "    df_1 = df.loc[df['Title'] == str(Title)]\n",
    "    \n",
    "    l = list(df_1['reviews_submitted'].unique())\n",
    "    \n",
    "    text = \" \".join(review for review in df_1.Clean_Text)\n",
    "    \n",
    "    wordlist = text.split()\n",
    "        \n",
    "    wordfreq = [wordlist.count(p) for p in wordlist]\n",
    "\n",
    "    dict = {'Words': wordlist, 'Frequency': wordfreq}\n",
    "\n",
    "    Dict = dict\n",
    "\n",
    "    freq_data = pd.DataFrame.from_dict(Dict)\n",
    "    \n",
    "    freq_data = freq_data.loc[freq_data['Frequency'] >= min_freq]\n",
    "    \n",
    "    freq_data.to_csv(\"Word_Frequency.csv\")\n",
    "    \n",
    "    return render_template('frequency.html' , tables = [freq_data.to_html(classes = 'data' , header = 'true')])\n",
    "\n",
    "\n",
    "@app.route('/wordcloud', methods = ['POST', 'GET'])\n",
    "\n",
    "def func():\n",
    "    \n",
    "    #extract the data from the request\n",
    "    data = request.get_json()\n",
    "    doc = data[\"document\"]\n",
    "    min_freq = data[\"minimum_frequency\"]\n",
    "    max_words = data[\"maximum_number_words\"]\n",
    "    Title = data['Title']\n",
    "  \n",
    "\n",
    "    path = os.path.dirname(doc)  #this extracts the path for later use. Not sure if it works on apple\n",
    "    \n",
    "    df = pd.read_csv(doc)  #read the file\n",
    "    \n",
    "    \n",
    "    #clean the data\n",
    "    df = df.dropna()\n",
    "    \n",
    "    df_1 = df.loc[df['Title'] == str(Title)]\n",
    "    \n",
    "    l = list(df_1['reviews_submitted'].unique())\n",
    "    \n",
    "    text = \" \".join(review for review in df_1.Clean_Text)\n",
    "    \n",
    "    WC = WordCloud(background_color=\"white\" , max_font_size = 50,max_words = max_words,  height = 400, width = 700, collocations = False)\n",
    "\n",
    "    #WC = WordCloud(background_color='white',max_font_size = 50,height=400,width=700, collocations=False)\n",
    "    \n",
    "    dic = WC.process_text(text)\n",
    "    \n",
    "    test = {}\n",
    "    for k, v in dic.items():\n",
    "        if v >= min_freq:\n",
    "            test.update({k:v})\n",
    "    \n",
    "    \n",
    "    img = WC.fit_words(test)  #buiding the wordcloud with the updated frequency dictinary\n",
    "    \n",
    "    plt.imshow(img)\n",
    "    plt.axis('off')\n",
    "    plt.tight_layout(pad=0)\n",
    "    plt.show()\n",
    "    img.to_file(\"img.png\")  #saving the wordcloud to disk\n",
    "    x = path + \"/img.png\"   #this is where I used the path again to access the saved wordcloud to send back through flask\n",
    "    \n",
    "    return send_file(x, mimetype='image/png')\n",
    "    \n",
    "if __name__ == '__main__':\n",
    "    app.run()  \n"
   ]
  },
  {
   "cell_type": "code",
   "execution_count": null,
   "metadata": {},
   "outputs": [],
   "source": []
  }
 ],
 "metadata": {
  "kernelspec": {
   "display_name": "Python 3",
   "language": "python",
   "name": "python3"
  },
  "language_info": {
   "codemirror_mode": {
    "name": "ipython",
    "version": 3
   },
   "file_extension": ".py",
   "mimetype": "text/x-python",
   "name": "python",
   "nbconvert_exporter": "python",
   "pygments_lexer": "ipython3",
   "version": "3.7.1"
  }
 },
 "nbformat": 4,
 "nbformat_minor": 2
}
